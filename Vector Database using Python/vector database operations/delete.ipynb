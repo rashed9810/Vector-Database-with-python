{
 "cells": [
  {
   "cell_type": "code",
   "execution_count": 11,
   "id": "15162e8d",
   "metadata": {
    "scrolled": true
   },
   "outputs": [],
   "source": [
    "import pinecone\n",
    "from tqdm.autonotebook import tqdm\n",
    "\n",
    "# API_KEY = \"YOUR API KEY\"\n",
    "# ENV = \"YOUR ENVIRONMENT\"\n",
    "\n",
    "pinecone.init(api_key = API_KEY, environment = ENV)"
   ]
  },
  {
   "cell_type": "code",
   "execution_count": 3,
   "id": "418076db",
   "metadata": {
    "scrolled": true
   },
   "outputs": [
    {
     "data": {
      "text/plain": [
       "['insert']"
      ]
     },
     "execution_count": 3,
     "metadata": {},
     "output_type": "execute_result"
    }
   ],
   "source": [
    "pinecone.list_indexes()"
   ]
  },
  {
   "cell_type": "code",
   "execution_count": 4,
   "id": "6aae4ec0",
   "metadata": {
    "scrolled": true
   },
   "outputs": [],
   "source": [
    "idx = pinecone.Index('insert')"
   ]
  },
  {
   "cell_type": "code",
   "execution_count": 5,
   "id": "1f91b631",
   "metadata": {
    "scrolled": true
   },
   "outputs": [
    {
     "data": {
      "text/plain": [
       "{}"
      ]
     },
     "execution_count": 5,
     "metadata": {},
     "output_type": "execute_result"
    }
   ],
   "source": [
    "idx.delete(ids = ['vec33'])  # 'vec1', vec2, vec3, vec33"
   ]
  },
  {
   "cell_type": "code",
   "execution_count": 7,
   "id": "949947f0",
   "metadata": {
    "scrolled": true
   },
   "outputs": [
    {
     "data": {
      "text/plain": [
       "{}"
      ]
     },
     "execution_count": 7,
     "metadata": {},
     "output_type": "execute_result"
    }
   ],
   "source": [
    "idx.delete(ids = ['vec1'])"
   ]
  },
  {
   "cell_type": "code",
   "execution_count": 10,
   "id": "d17462e9",
   "metadata": {
    "scrolled": true
   },
   "outputs": [
    {
     "data": {
      "text/plain": [
       "{}"
      ]
     },
     "execution_count": 10,
     "metadata": {},
     "output_type": "execute_result"
    }
   ],
   "source": [
    "idx.delete(delete_all=True)"
   ]
  },
  {
   "cell_type": "code",
   "execution_count": 12,
   "id": "98ae169a",
   "metadata": {
    "scrolled": true
   },
   "outputs": [],
   "source": []
  },
  {
   "cell_type": "code",
   "execution_count": null,
   "id": "15cbd3dd",
   "metadata": {},
   "outputs": [],
   "source": []
  }
 ],
 "metadata": {
  "kernelspec": {
   "display_name": "pinecone_env",
   "language": "python",
   "name": "pinecone_env"
  },
  "language_info": {
   "codemirror_mode": {
    "name": "ipython",
    "version": 3
   },
   "file_extension": ".py",
   "mimetype": "text/x-python",
   "name": "python",
   "nbconvert_exporter": "python",
   "pygments_lexer": "ipython3",
   "version": "3.10.6"
  }
 },
 "nbformat": 4,
 "nbformat_minor": 5
}
