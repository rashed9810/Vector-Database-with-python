{
 "cells": [
  {
   "cell_type": "markdown",
   "id": "a7da643e",
   "metadata": {},
   "source": [
    "# Index Management"
   ]
  },
  {
   "cell_type": "markdown",
   "id": "44df2534",
   "metadata": {
    "scrolled": true
   },
   "source": [
    "1. Create Index \n",
    "2. Retrieve list of database indexes.\n",
    "3. Connect to a index\n",
    "4. Describe index\n",
    "5. Delete a index   "
   ]
  },
  {
   "cell_type": "code",
   "execution_count": 23,
   "id": "15162e8d",
   "metadata": {
    "scrolled": false
   },
   "outputs": [],
   "source": [
    "import pinecone\n",
    "from tqdm.autonotebook import tqdm # warning taken care of\n",
    "\n",
    "# API_KEY = \"YOUR API KEY\"\n",
    "# ENV = \"YOUR ENVIRONMENT\"\n",
    "\n",
    "pinecone.init(api_key = API_KEY, environment = ENV)"
   ]
  },
  {
   "cell_type": "markdown",
   "id": "693f2c2b",
   "metadata": {},
   "source": [
    "#### 1. Create Index"
   ]
  },
  {
   "cell_type": "code",
   "execution_count": 58,
   "id": "2e312b55",
   "metadata": {},
   "outputs": [],
   "source": [
    "pinecone.create_index(\"test\", dimension=3, metric=\"dotproduct\",\n",
    "                     pod_type='s1') # sparse-dense vector\n",
    "# delete existing one in free tier\n",
    "\n"
   ]
  },
  {
   "cell_type": "markdown",
   "id": "26017870",
   "metadata": {
    "scrolled": true
   },
   "source": [
    "<!-- #     (\"A\", [0.1, 0.1, 0.1, 0.1, 0.1, 0.1, 0.1, 0.1]),\n",
    "#     (\"B\", [0.2, 0.2, 0.2, 0.2, 0.2, 0.2, 0.2, 0.2]),\n",
    "#     (\"C\", [0.3, 0.3, 0.3, 0.3, 0.3, 0.3, 0.3, 0.3]),\n",
    "#     (\"D\", [0.4, 0.4, 0.4, 0.4, 0.4, 0.4, 0.4, 0.4]),\n",
    "#     (\"E\", [0.5, 0.5, 0.5, 0.5, 0.5, 0.5, 0.5, 0.5]) -->"
   ]
  },
  {
   "cell_type": "markdown",
   "id": "64575c8a",
   "metadata": {},
   "source": [
    "#### 2. Retrieve list of database indexes."
   ]
  },
  {
   "cell_type": "code",
   "execution_count": 26,
   "id": "13152825",
   "metadata": {},
   "outputs": [
    {
     "data": {
      "text/plain": [
       "['test']"
      ]
     },
     "execution_count": 26,
     "metadata": {},
     "output_type": "execute_result"
    }
   ],
   "source": [
    "pinecone.list_indexes()"
   ]
  },
  {
   "cell_type": "markdown",
   "id": "73cf864a",
   "metadata": {},
   "source": [
    "#### 3. Connect to a index"
   ]
  },
  {
   "cell_type": "code",
   "execution_count": 27,
   "id": "bb86facd",
   "metadata": {},
   "outputs": [],
   "source": [
    "idx = pinecone.Index('test')"
   ]
  },
  {
   "cell_type": "markdown",
   "id": "434f57e6",
   "metadata": {},
   "source": [
    "#### 4. Describe index"
   ]
  },
  {
   "cell_type": "code",
   "execution_count": 31,
   "id": "4ef4cc9c",
   "metadata": {},
   "outputs": [],
   "source": [
    "description = pinecone.describe_index('test') # response "
   ]
  },
  {
   "cell_type": "code",
   "execution_count": 42,
   "id": "9bf94634",
   "metadata": {},
   "outputs": [
    {
     "name": "stdout",
     "output_type": "stream",
     "text": [
      "Index ready\n"
     ]
    }
   ],
   "source": [
    "if (description.status['state'] == 'Ready') :\n",
    "    print('Index ready')\n",
    "else: \n",
    "    print('Index not ready')"
   ]
  },
  {
   "cell_type": "code",
   "execution_count": 43,
   "id": "c3534869",
   "metadata": {},
   "outputs": [
    {
     "data": {
      "text/plain": [
       "3.0"
      ]
     },
     "execution_count": 43,
     "metadata": {},
     "output_type": "execute_result"
    }
   ],
   "source": [
    "description.dimension"
   ]
  },
  {
   "cell_type": "code",
   "execution_count": 57,
   "id": "27311ec3",
   "metadata": {},
   "outputs": [
    {
     "name": "stdout",
     "output_type": "stream",
     "text": [
      "Sparse-dense usable\n"
     ]
    }
   ],
   "source": [
    "pod_type = description.pod_type.split(\".\")[0]\n",
    "\n",
    "if  (pod_type == 's1') or (pod_type=='p1'):\n",
    "    print('Sparse-dense usable')\n",
    "else: \n",
    "    print('Sparse-dense not usable')"
   ]
  },
  {
   "cell_type": "markdown",
   "id": "64d6b8ab",
   "metadata": {},
   "source": [
    "#### 5. Delete a index  "
   ]
  },
  {
   "cell_type": "code",
   "execution_count": 51,
   "id": "ee49c4b4",
   "metadata": {},
   "outputs": [],
   "source": [
    "pinecone.delete_index(\"test\")"
   ]
  },
  {
   "cell_type": "code",
   "execution_count": null,
   "id": "613074c0",
   "metadata": {},
   "outputs": [],
   "source": []
  }
 ],
 "metadata": {
  "kernelspec": {
   "display_name": "pinecone_env",
   "language": "python",
   "name": "pinecone_env"
  },
  "language_info": {
   "codemirror_mode": {
    "name": "ipython",
    "version": 3
   },
   "file_extension": ".py",
   "mimetype": "text/x-python",
   "name": "python",
   "nbconvert_exporter": "python",
   "pygments_lexer": "ipython3",
   "version": "3.10.6"
  }
 },
 "nbformat": 4,
 "nbformat_minor": 5
}
