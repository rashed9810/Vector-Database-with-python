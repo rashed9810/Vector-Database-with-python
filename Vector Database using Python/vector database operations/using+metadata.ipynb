{
 "cells": [
  {
   "cell_type": "markdown",
   "id": "6e76633d",
   "metadata": {},
   "source": [
    "# Using Metadata"
   ]
  },
  {
   "cell_type": "code",
   "execution_count": 74,
   "id": "f876abfc",
   "metadata": {},
   "outputs": [],
   "source": [
    "# initiate\n",
    "\n",
    "\n",
    "import pinecone\n",
    "from tqdm.autonotebook import tqdm # for proress bar\n",
    "import numpy as np\n",
    "\n",
    "# API_KEY = \"YOUR API KEY\"\n",
    "# ENV = \"YOUR ENVIRONMENT\"\n",
    "\n",
    "pinecone.init(api_key = API_KEY, environment = ENV)\n",
    "\n"
   ]
  },
  {
   "cell_type": "code",
   "execution_count": 75,
   "id": "caa0b8e1",
   "metadata": {},
   "outputs": [],
   "source": [
    "# index creations\n",
    "\n",
    "\n",
    "# connect\n",
    "idx = pinecone.Index(\"my-collection-index\")\n"
   ]
  },
  {
   "cell_type": "markdown",
   "id": "b00da918",
   "metadata": {},
   "source": [
    "### Upsert"
   ]
  },
  {
   "cell_type": "code",
   "execution_count": 76,
   "id": "27cb277c",
   "metadata": {},
   "outputs": [
    {
     "data": {
      "text/plain": [
       "{'upserted_count': 5}"
      ]
     },
     "execution_count": 76,
     "metadata": {},
     "output_type": "execute_result"
    }
   ],
   "source": [
    "idx.upsert([\n",
    "    (\"1\", [0.1, 0.1, 0.1 ], {\"topic\": \"subject\", \"year\": 2023}),\n",
    "    (\"2\", [0.2, 0.2, 0.2], {\"topic\": \"other\", \"year\": 2022}),\n",
    "    (\"3\", [0.3, 0.3, 0.3], {\"topic\": \"body\", \"year\": 2023}),\n",
    "    (\"4\", [0.4, 0.4, 0.4], {\"topic\": \"body\"}),\n",
    "    (\"5\", [0.5, 0.5, 0.5], {\"topic\": \"subject\"})\n",
    "])"
   ]
  },
  {
   "cell_type": "markdown",
   "id": "92a5bb0f",
   "metadata": {},
   "source": [
    "### Query"
   ]
  },
  {
   "cell_type": "code",
   "execution_count": 78,
   "id": "bf647630",
   "metadata": {},
   "outputs": [
    {
     "data": {
      "text/plain": [
       "{'matches': [{'id': '1',\n",
       "              'metadata': {'topic': 'subject', 'year': 2023.0},\n",
       "              'score': 0.0,\n",
       "              'values': [0.1, 0.1, 0.1]}],\n",
       " 'namespace': ''}"
      ]
     },
     "execution_count": 78,
     "metadata": {},
     "output_type": "execute_result"
    }
   ],
   "source": [
    "idx.query(vector =[0,0,0], \n",
    "          top_k=2, \n",
    "          include_metadata=True, \n",
    "          include_values=True,\n",
    "          filter={\n",
    "             \"topic\" : {\"$eq\": \"subject\"},\n",
    "              \"year\" : 2023\n",
    "         })"
   ]
  },
  {
   "cell_type": "markdown",
   "id": "a8513d13",
   "metadata": {},
   "source": [
    "### Update and Fetch"
   ]
  },
  {
   "cell_type": "code",
   "execution_count": 87,
   "id": "7fc91965",
   "metadata": {},
   "outputs": [
    {
     "data": {
      "text/plain": [
       "{'namespace': '',\n",
       " 'vectors': {'1': {'id': '1',\n",
       "                   'metadata': {'topic': 'other', 'year': 2020.0},\n",
       "                   'values': [0.1, 0.1, 0.1]}}}"
      ]
     },
     "execution_count": 87,
     "metadata": {},
     "output_type": "execute_result"
    }
   ],
   "source": [
    "idx.fetch(ids=['1'])"
   ]
  },
  {
   "cell_type": "code",
   "execution_count": 86,
   "id": "0bdce6ee",
   "metadata": {},
   "outputs": [
    {
     "data": {
      "text/plain": [
       "{}"
      ]
     },
     "execution_count": 86,
     "metadata": {},
     "output_type": "execute_result"
    }
   ],
   "source": [
    "idx.update(id='1', \n",
    "           values=[0.1,0.1, 0.1], \n",
    "           set_metadata = {'topic': 'other', 'year': 2020})"
   ]
  },
  {
   "cell_type": "markdown",
   "id": "f55a5acf",
   "metadata": {},
   "source": [
    "### Delete"
   ]
  },
  {
   "cell_type": "code",
   "execution_count": 91,
   "id": "edfc0d18",
   "metadata": {},
   "outputs": [
    {
     "data": {
      "text/plain": [
       "{}"
      ]
     },
     "execution_count": 91,
     "metadata": {},
     "output_type": "execute_result"
    }
   ],
   "source": [
    "idx.delete(filter = {\n",
    "    \"topic\" : {\"$eq\": \"other\"}\n",
    "})"
   ]
  },
  {
   "cell_type": "code",
   "execution_count": null,
   "id": "c7397b9f",
   "metadata": {},
   "outputs": [],
   "source": []
  }
 ],
 "metadata": {
  "kernelspec": {
   "display_name": "pinecone_env",
   "language": "python",
   "name": "pinecone_env"
  },
  "language_info": {
   "codemirror_mode": {
    "name": "ipython",
    "version": 3
   },
   "file_extension": ".py",
   "mimetype": "text/x-python",
   "name": "python",
   "nbconvert_exporter": "python",
   "pygments_lexer": "ipython3",
   "version": "3.10.6"
  }
 },
 "nbformat": 4,
 "nbformat_minor": 5
}
