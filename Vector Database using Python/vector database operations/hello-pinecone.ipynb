{
 "cells": [
  {
   "cell_type": "code",
   "execution_count": 8,
   "id": "15162e8d",
   "metadata": {},
   "outputs": [],
   "source": [
    "import pinecone"
   ]
  },
  {
   "cell_type": "code",
   "execution_count": 10,
   "id": "8bbfe3e7",
   "metadata": {},
   "outputs": [],
   "source": [
    "pinecone.init(api_key = \"your key\", environment = \"your env\")"
   ]
  },
  {
   "cell_type": "code",
   "execution_count": 11,
   "id": "2bc12875",
   "metadata": {},
   "outputs": [],
   "source": [
    "pinecone.create_index(name = \"insert\", dimension = 3)"
   ]
  },
  {
   "cell_type": "code",
   "execution_count": 14,
   "id": "418076db",
   "metadata": {},
   "outputs": [
    {
     "data": {
      "text/plain": [
       "['insert']"
      ]
     },
     "execution_count": 14,
     "metadata": {},
     "output_type": "execute_result"
    }
   ],
   "source": [
    "pinecone.list_indexes()"
   ]
  },
  {
   "cell_type": "code",
   "execution_count": 12,
   "id": "6aae4ec0",
   "metadata": {},
   "outputs": [],
   "source": [
    "vectors= [[1, 3, 4], [5, 6, 7], [8, 9, 0]]"
   ]
  },
  {
   "cell_type": "code",
   "execution_count": 13,
   "id": "114eb7d4",
   "metadata": {},
   "outputs": [],
   "source": [
    "vect_ids = ['vec1', 'vec2', 'vec3']"
   ]
  },
  {
   "cell_type": "code",
   "execution_count": 16,
   "id": "1f91b631",
   "metadata": {},
   "outputs": [],
   "source": [
    "idx = pinecone.Index('insert')"
   ]
  },
  {
   "cell_type": "code",
   "execution_count": 17,
   "id": "949947f0",
   "metadata": {},
   "outputs": [
    {
     "data": {
      "text/plain": [
       "{'upserted_count': 3}"
      ]
     },
     "execution_count": 17,
     "metadata": {},
     "output_type": "execute_result"
    }
   ],
   "source": [
    "idx.upsert([\n",
    "    ('vec1', [1, 3, 4]),   # tuple . with id and vector\n",
    "    ('vec2', [5, 6, 7]),\n",
    "    ('vec3', [8, 9, 0])\n",
    "    \n",
    "    \n",
    "])  # list of vectors"
   ]
  },
  {
   "cell_type": "code",
   "execution_count": null,
   "id": "d17462e9",
   "metadata": {},
   "outputs": [],
   "source": []
  }
 ],
 "metadata": {
  "kernelspec": {
   "display_name": "pinecone_env",
   "language": "python",
   "name": "pinecone_env"
  },
  "language_info": {
   "codemirror_mode": {
    "name": "ipython",
    "version": 3
   },
   "file_extension": ".py",
   "mimetype": "text/x-python",
   "name": "python",
   "nbconvert_exporter": "python",
   "pygments_lexer": "ipython3",
   "version": "3.10.6"
  }
 },
 "nbformat": 4,
 "nbformat_minor": 5
}
