{
 "cells": [
  {
   "cell_type": "markdown",
   "id": "a7da643e",
   "metadata": {},
   "source": [
    "# Index Backup Using Collection"
   ]
  },
  {
   "cell_type": "markdown",
   "id": "44df2534",
   "metadata": {
    "scrolled": true
   },
   "source": [
    "###### 1. Initialize Pinecone and Create index     \n",
    "###### 2. Upsert Sparse-Dense Vectors\n",
    "###### 3. Create Collection\n",
    "###### 4. List, Describe & Delete Collection\n",
    "###### 5. Create Index from Collection\n"
   ]
  },
  {
   "cell_type": "code",
   "execution_count": 3,
   "id": "15162e8d",
   "metadata": {
    "scrolled": true
   },
   "outputs": [
    {
     "name": "stderr",
     "output_type": "stream",
     "text": [
      "/home/mohsin/.local/lib/python3.10/site-packages/pinecone/index.py:4: TqdmExperimentalWarning: Using `tqdm.autonotebook.tqdm` in notebook mode. Use `tqdm.tqdm` instead to force console mode (e.g. in jupyter console)\n",
      "  from tqdm.autonotebook import tqdm\n"
     ]
    }
   ],
   "source": [
    "import pinecone\n",
    "from tqdm.autonotebook import tqdm # warning taken care of\n",
    "\n",
    "# API_KEY = \"YOUR API KEY\"\n",
    "# ENV = \"YOUR ENVIRONMENT\"\n",
    "\n",
    "pinecone.init(api_key = API_KEY, environment = ENV)"
   ]
  },
  {
   "cell_type": "markdown",
   "id": "26017870",
   "metadata": {
    "scrolled": true
   },
   "source": [
    "<!-- #     (\"A\", [0.1, 0.1, 0.1, 0.1, 0.1, 0.1, 0.1, 0.1]),\n",
    "#     (\"B\", [0.2, 0.2, 0.2, 0.2, 0.2, 0.2, 0.2, 0.2]),\n",
    "#     (\"C\", [0.3, 0.3, 0.3, 0.3, 0.3, 0.3, 0.3, 0.3]),\n",
    "#     (\"D\", [0.4, 0.4, 0.4, 0.4, 0.4, 0.4, 0.4, 0.4]),\n",
    "#     (\"E\", [0.5, 0.5, 0.5, 0.5, 0.5, 0.5, 0.5, 0.5]) -->"
   ]
  },
  {
   "cell_type": "code",
   "execution_count": 31,
   "id": "d5c707b3",
   "metadata": {},
   "outputs": [],
   "source": [
    "pinecone.delete_index('test') # existing one, because free tier\n",
    "pinecone.create_index('test', dimension=3, \n",
    "                      metric='dotproduct', pod_type = 's1')\n",
    "\n",
    "# metric should be dotproduct and pod_type s1/p1 for sparse-dense upsert\n",
    "# index dimension is equal to dimension of dense vector"
   ]
  },
  {
   "cell_type": "code",
   "execution_count": 4,
   "id": "fe9e85ea",
   "metadata": {},
   "outputs": [],
   "source": [
    "# creating a collection\n",
    "\n",
    "pinecone.create_collection(name = \"my-collection\", source = \"test\")"
   ]
  },
  {
   "cell_type": "code",
   "execution_count": 5,
   "id": "b608885c",
   "metadata": {},
   "outputs": [
    {
     "data": {
      "text/plain": [
       "['my-collection']"
      ]
     },
     "execution_count": 5,
     "metadata": {},
     "output_type": "execute_result"
    }
   ],
   "source": [
    "# list all collections in database\n",
    "\n",
    "pinecone.list_collections()"
   ]
  },
  {
   "cell_type": "code",
   "execution_count": 7,
   "id": "72ff4821",
   "metadata": {},
   "outputs": [],
   "source": [
    "# describe a collection\n",
    "\n",
    "res = pinecone.describe_collection(\"my-collection\") # response"
   ]
  },
  {
   "cell_type": "code",
   "execution_count": 14,
   "id": "96c81159",
   "metadata": {},
   "outputs": [
    {
     "data": {
      "text/plain": [
       "'my-collection'"
      ]
     },
     "execution_count": 14,
     "metadata": {},
     "output_type": "execute_result"
    }
   ],
   "source": [
    "res.name"
   ]
  },
  {
   "cell_type": "code",
   "execution_count": 12,
   "id": "56f9bacc",
   "metadata": {},
   "outputs": [
    {
     "data": {
      "text/plain": [
       "3.112836"
      ]
     },
     "execution_count": 12,
     "metadata": {},
     "output_type": "execute_result"
    }
   ],
   "source": [
    "res.size / 10**6  # Mega Bytes"
   ]
  },
  {
   "cell_type": "code",
   "execution_count": 15,
   "id": "23dc8120",
   "metadata": {},
   "outputs": [],
   "source": [
    "pinecone.delete_collection(\"my-collection\") \n",
    "# wait till index creation completed and populated, takes 10 mins or less"
   ]
  },
  {
   "cell_type": "code",
   "execution_count": null,
   "id": "8ac08ca4",
   "metadata": {},
   "outputs": [],
   "source": []
  }
 ],
 "metadata": {
  "kernelspec": {
   "display_name": "pinecone_env",
   "language": "python",
   "name": "pinecone_env"
  },
  "language_info": {
   "codemirror_mode": {
    "name": "ipython",
    "version": 3
   },
   "file_extension": ".py",
   "mimetype": "text/x-python",
   "name": "python",
   "nbconvert_exporter": "python",
   "pygments_lexer": "ipython3",
   "version": "3.10.6"
  }
 },
 "nbformat": 4,
 "nbformat_minor": 5
}
