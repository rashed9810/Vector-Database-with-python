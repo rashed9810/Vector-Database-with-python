{
 "cells": [
  {
   "cell_type": "code",
   "execution_count": 4,
   "id": "15162e8d",
   "metadata": {
    "scrolled": false
   },
   "outputs": [],
   "source": [
    "import pinecone\n",
    "\n",
    "# API_KEY = \"YOUR API KEY\"\n",
    "# ENV = \"YOUR ENVIRONMENT\"\n",
    "\n",
    "pinecone.init(api_key = API_KEY, environment = ENV)"
   ]
  },
  {
   "cell_type": "code",
   "execution_count": 5,
   "id": "418076db",
   "metadata": {},
   "outputs": [
    {
     "data": {
      "text/plain": [
       "['insert']"
      ]
     },
     "execution_count": 5,
     "metadata": {},
     "output_type": "execute_result"
    }
   ],
   "source": [
    "pinecone.list_indexes()"
   ]
  },
  {
   "cell_type": "code",
   "execution_count": 12,
   "id": "6aae4ec0",
   "metadata": {},
   "outputs": [],
   "source": [
    "# vectors= [[1, 3, 4], [5, 6, 7], [8, 9, 0]]\n",
    "# vect_ids = ['vec1', 'vec2', 'vec3']"
   ]
  },
  {
   "cell_type": "code",
   "execution_count": 7,
   "id": "1f91b631",
   "metadata": {},
   "outputs": [],
   "source": [
    "idx = pinecone.Index('insert')"
   ]
  },
  {
   "cell_type": "code",
   "execution_count": 5,
   "id": "949947f0",
   "metadata": {},
   "outputs": [
    {
     "data": {
      "text/plain": [
       "{'upserted_count': 3}"
      ]
     },
     "execution_count": 5,
     "metadata": {},
     "output_type": "execute_result"
    }
   ],
   "source": [
    "# idx.upsert([\n",
    "#     ('vec1', [1, 3, 44]),   # update because vec1 is already in DB\n",
    "#     ('vec2', [5, 6, 77]),   # update\n",
    "#     ('vec33', [8, 9, 0])    # insert\n",
    "    \n",
    "    \n",
    "# ])  # list of vectors"
   ]
  },
  {
   "cell_type": "code",
   "execution_count": 17,
   "id": "d17462e9",
   "metadata": {},
   "outputs": [
    {
     "data": {
      "text/plain": [
       "{'matches': [{'id': 'vec3', 'score': 0.0, 'values': [8.0, 9.0, 0.0]},\n",
       "             {'id': 'vec2', 'score': 0.0, 'values': [5.0, 6.0, 77.0]},\n",
       "             {'id': 'vec1', 'score': 0.0, 'values': [1.0, 3.0, 44.0]},\n",
       "             {'id': 'vec33', 'score': 0.0, 'values': [8.0, 9.0, 0.0]}],\n",
       " 'namespace': ''}"
      ]
     },
     "execution_count": 17,
     "metadata": {},
     "output_type": "execute_result"
    }
   ],
   "source": [
    "idx.query([0, 0 , 0], top_k=5, include_values = True) "
   ]
  },
  {
   "cell_type": "code",
   "execution_count": null,
   "id": "98ae169a",
   "metadata": {},
   "outputs": [],
   "source": []
  }
 ],
 "metadata": {
  "kernelspec": {
   "display_name": "pinecone_env",
   "language": "python",
   "name": "pinecone_env"
  },
  "language_info": {
   "codemirror_mode": {
    "name": "ipython",
    "version": 3
   },
   "file_extension": ".py",
   "mimetype": "text/x-python",
   "name": "python",
   "nbconvert_exporter": "python",
   "pygments_lexer": "ipython3",
   "version": "3.10.6"
  }
 },
 "nbformat": 4,
 "nbformat_minor": 5
}
