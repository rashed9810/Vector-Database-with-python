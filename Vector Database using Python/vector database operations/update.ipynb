{
 "cells": [
  {
   "cell_type": "markdown",
   "id": "44df2534",
   "metadata": {
    "scrolled": true
   },
   "source": [
    "###### 1. List of Vectors to be inserted first.\n",
    "\n",
    "    (\"A\", [0.1, 0.1, 0.1]),\n",
    "    (\"B\", [0.2, 0.2, 0.2]),\n",
    "    (\"C\", [0.3, 0.3, 0.3]),\n",
    "    (\"D\", [0.4, 0.4, 0.4]),\n",
    "    (\"E\", [0.5, 0.5, 0.5])\n",
    "    \n",
    "###### 2. Update Vector \"E\" with values [0.55, 0.55, 0.55] "
   ]
  },
  {
   "cell_type": "code",
   "execution_count": 4,
   "id": "15162e8d",
   "metadata": {
    "scrolled": true
   },
   "outputs": [],
   "source": [
    "import pinecone\n",
    "from tqdm.autonotebook import tqdm # warning taken care of\n",
    "\n",
    "# API_KEY = \"YOUR API KEY\"\n",
    "# ENV = \"YOUR ENVIRONMENT\"\n",
    "\n",
    "pinecone.init(api_key = API_KEY, environment = ENV)"
   ]
  },
  {
   "cell_type": "markdown",
   "id": "26017870",
   "metadata": {
    "scrolled": true
   },
   "source": [
    "<!-- #     (\"A\", [0.1, 0.1, 0.1, 0.1, 0.1, 0.1, 0.1, 0.1]),\n",
    "#     (\"B\", [0.2, 0.2, 0.2, 0.2, 0.2, 0.2, 0.2, 0.2]),\n",
    "#     (\"C\", [0.3, 0.3, 0.3, 0.3, 0.3, 0.3, 0.3, 0.3]),\n",
    "#     (\"D\", [0.4, 0.4, 0.4, 0.4, 0.4, 0.4, 0.4, 0.4]),\n",
    "#     (\"E\", [0.5, 0.5, 0.5, 0.5, 0.5, 0.5, 0.5, 0.5]) -->"
   ]
  },
  {
   "cell_type": "code",
   "execution_count": 5,
   "id": "2bb59d63",
   "metadata": {},
   "outputs": [
    {
     "data": {
      "text/plain": [
       "['insert']"
      ]
     },
     "execution_count": 5,
     "metadata": {},
     "output_type": "execute_result"
    }
   ],
   "source": [
    "pinecone.list_indexes()"
   ]
  },
  {
   "cell_type": "code",
   "execution_count": 6,
   "id": "25b1ebbd",
   "metadata": {},
   "outputs": [],
   "source": [
    "idx = pinecone.Index('insert')"
   ]
  },
  {
   "cell_type": "code",
   "execution_count": 9,
   "id": "bceba5bf",
   "metadata": {},
   "outputs": [
    {
     "data": {
      "text/plain": [
       "{'upserted_count': 5}"
      ]
     },
     "execution_count": 9,
     "metadata": {},
     "output_type": "execute_result"
    }
   ],
   "source": [
    "idx.upsert(vectors = [\n",
    "    (\"A\", [0.1, 0.1, 0.1]),\n",
    "(\"B\", [0.2, 0.2, 0.2]),\n",
    "(\"C\", [0.3, 0.3, 0.3]),\n",
    "(\"D\", [0.4, 0.4, 0.4]),\n",
    "(\"E\", [0.5, 0.5, 0.5])\n",
    "])"
   ]
  },
  {
   "cell_type": "code",
   "execution_count": 10,
   "id": "9aecc926",
   "metadata": {},
   "outputs": [
    {
     "data": {
      "text/plain": [
       "{}"
      ]
     },
     "execution_count": 10,
     "metadata": {},
     "output_type": "execute_result"
    }
   ],
   "source": [
    "idx.update(id=\"E\", values=[0.55, 0.55, 0.55])"
   ]
  },
  {
   "cell_type": "code",
   "execution_count": null,
   "id": "4a74ef85",
   "metadata": {},
   "outputs": [],
   "source": []
  }
 ],
 "metadata": {
  "kernelspec": {
   "display_name": "pinecone_env",
   "language": "python",
   "name": "pinecone_env"
  },
  "language_info": {
   "codemirror_mode": {
    "name": "ipython",
    "version": 3
   },
   "file_extension": ".py",
   "mimetype": "text/x-python",
   "name": "python",
   "nbconvert_exporter": "python",
   "pygments_lexer": "ipython3",
   "version": "3.10.6"
  }
 },
 "nbformat": 4,
 "nbformat_minor": 5
}
