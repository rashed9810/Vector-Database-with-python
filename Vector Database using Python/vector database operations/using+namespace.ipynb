{
 "cells": [
  {
   "cell_type": "markdown",
   "id": "6e76633d",
   "metadata": {},
   "source": [
    "# Vector Partition Using Namespace"
   ]
  },
  {
   "cell_type": "code",
   "execution_count": 3,
   "id": "f876abfc",
   "metadata": {},
   "outputs": [
    {
     "name": "stderr",
     "output_type": "stream",
     "text": [
      "/home/mohsin/.local/lib/python3.10/site-packages/pinecone/index.py:4: TqdmExperimentalWarning: Using `tqdm.autonotebook.tqdm` in notebook mode. Use `tqdm.tqdm` instead to force console mode (e.g. in jupyter console)\n",
      "  from tqdm.autonotebook import tqdm\n"
     ]
    }
   ],
   "source": [
    "# initiate\n",
    "\n",
    "\n",
    "import pinecone\n",
    "from tqdm.autonotebook import tqdm # warning taken care of\n",
    "import numpy as np\n",
    "\n",
    "# API_KEY = \"YOUR API KEY\"\n",
    "# ENV = \"YOUR ENVIRONMENT\"\n",
    "\n",
    "pinecone.init(api_key = API_KEY, environment = ENV)\n",
    "\n",
    "idx = pinecone.Index(\"my-collection-index\") # connect to index"
   ]
  },
  {
   "cell_type": "code",
   "execution_count": 6,
   "id": "17cdc3a9",
   "metadata": {},
   "outputs": [],
   "source": [
    "# count of emails\n",
    "dimensions = 3 # index dimension\n",
    "\n",
    "emails_with_subject = 20\n",
    "emails_with_body = 45\n",
    "emails_with_other = 45"
   ]
  },
  {
   "cell_type": "markdown",
   "id": "b00da918",
   "metadata": {},
   "source": [
    "### Upsert"
   ]
  },
  {
   "cell_type": "code",
   "execution_count": 29,
   "id": "dd73411f",
   "metadata": {},
   "outputs": [],
   "source": [
    "# create vectors, assume embedded\n",
    "# python list of lists\n",
    "vects_subj= np.random.rand(emails_with_subject, dimensions).tolist()\n",
    "vects_body= np.random.rand(emails_with_body, dimensions).tolist() \n",
    "vects_other= np.random.rand(emails_with_other, dimensions).tolist() \n",
    "\n",
    "# create ids for these vectors ,IDs are string\n",
    "\n",
    "ids_subj = map(str, np.arange(emails_with_subject).tolist())\n",
    "ids_body = map(str, np.arange(emails_with_body).tolist())\n",
    "ids_other = map(str, np.arange(emails_with_other).tolist())\n",
    "\n",
    "# zip id and vector\n",
    "vectors_subj = list(zip(ids_subj, vects_subj)) # list of tuples (id, values)\n",
    "vectors_body = list(zip(ids_body, vects_body) )\n",
    "vectors_other = list(zip(ids_other, vects_other))\n",
    "\n",
    "\n",
    "# upsert vectors into index with different namespace\n",
    "\n",
    "idx.upsert(vectors_subj, namespace='subject')\n",
    "idx.upsert(vectors_body, namespace='body')\n",
    "idx.upsert(vectors_other) # default namespace is \"\""
   ]
  },
  {
   "cell_type": "markdown",
   "id": "92a5bb0f",
   "metadata": {},
   "source": [
    "### Query"
   ]
  },
  {
   "cell_type": "code",
   "execution_count": 79,
   "id": "805c868f",
   "metadata": {},
   "outputs": [
    {
     "data": {
      "text/plain": [
       "{'matches': [{'id': '43',\n",
       "              'score': 1.22387767,\n",
       "              'values': [0.595686555, 0.974872828, 0.952874362]},\n",
       "             {'id': '18',\n",
       "              'score': 1.13520527,\n",
       "              'values': [0.252984226, 0.870087445, 0.968409359]},\n",
       "             {'id': '20',\n",
       "              'score': 1.03988838,\n",
       "              'values': [0.256487548, 0.670692682, 0.98399508]}],\n",
       " 'namespace': ''}"
      ]
     },
     "execution_count": 79,
     "metadata": {},
     "output_type": "execute_result"
    }
   ],
   "source": [
    "idx.query(vector = list(np.random.rand(3)), \n",
    "          top_k=3, \n",
    "          namespace='', \n",
    "          include_values=True)"
   ]
  },
  {
   "cell_type": "markdown",
   "id": "a8513d13",
   "metadata": {},
   "source": [
    "### Update and Fetch"
   ]
  },
  {
   "cell_type": "code",
   "execution_count": 81,
   "id": "b3b04d14",
   "metadata": {},
   "outputs": [
    {
     "data": {
      "text/plain": [
       "('44', [0.06853579224429507, 0.004807472408807634, 0.3364654601877931])"
      ]
     },
     "execution_count": 81,
     "metadata": {},
     "output_type": "execute_result"
    }
   ],
   "source": [
    "vectors_other[44]  # current value"
   ]
  },
  {
   "cell_type": "code",
   "execution_count": 82,
   "id": "c731bcca",
   "metadata": {},
   "outputs": [],
   "source": [
    "new_value = [0.1, 0.1, 0.1]"
   ]
  },
  {
   "cell_type": "code",
   "execution_count": 83,
   "id": "2e76e351",
   "metadata": {},
   "outputs": [
    {
     "data": {
      "text/plain": [
       "{}"
      ]
     },
     "execution_count": 83,
     "metadata": {},
     "output_type": "execute_result"
    }
   ],
   "source": [
    "idx.update(id = '44', \n",
    "          values= new_value,\n",
    "          namespace = '')"
   ]
  },
  {
   "cell_type": "code",
   "execution_count": 84,
   "id": "30a17fdf",
   "metadata": {},
   "outputs": [
    {
     "data": {
      "text/plain": [
       "{'namespace': '', 'vectors': {'44': {'id': '44', 'values': [0.1, 0.1, 0.1]}}}"
      ]
     },
     "execution_count": 84,
     "metadata": {},
     "output_type": "execute_result"
    }
   ],
   "source": [
    "idx.fetch(ids = ['44'], namespace = '')"
   ]
  },
  {
   "cell_type": "markdown",
   "id": "f55a5acf",
   "metadata": {},
   "source": [
    "### Delete"
   ]
  },
  {
   "cell_type": "code",
   "execution_count": 88,
   "id": "61f0d5e9",
   "metadata": {},
   "outputs": [
    {
     "data": {
      "text/plain": [
       "{}"
      ]
     },
     "execution_count": 88,
     "metadata": {},
     "output_type": "execute_result"
    }
   ],
   "source": [
    "idx.delete(ids = ['0', '1'], namespace='subject')"
   ]
  },
  {
   "cell_type": "code",
   "execution_count": 89,
   "id": "1c2fca87",
   "metadata": {},
   "outputs": [
    {
     "data": {
      "text/plain": [
       "{}"
      ]
     },
     "execution_count": 89,
     "metadata": {},
     "output_type": "execute_result"
    }
   ],
   "source": [
    "idx.delete(ids = ['0', '1', '2'], namespace='body')"
   ]
  },
  {
   "cell_type": "code",
   "execution_count": 90,
   "id": "ce710326",
   "metadata": {},
   "outputs": [
    {
     "data": {
      "text/plain": [
       "{}"
      ]
     },
     "execution_count": 90,
     "metadata": {},
     "output_type": "execute_result"
    }
   ],
   "source": [
    "idx.delete(delete_all=True) # deleted vector without namespace"
   ]
  },
  {
   "cell_type": "code",
   "execution_count": 93,
   "id": "db2d3c46",
   "metadata": {},
   "outputs": [
    {
     "data": {
      "text/plain": [
       "{}"
      ]
     },
     "execution_count": 93,
     "metadata": {},
     "output_type": "execute_result"
    }
   ],
   "source": [
    "idx.delete(delete_all=True, namespace='body')"
   ]
  },
  {
   "cell_type": "code",
   "execution_count": null,
   "id": "941488b9",
   "metadata": {},
   "outputs": [],
   "source": []
  }
 ],
 "metadata": {
  "kernelspec": {
   "display_name": "pinecone_env",
   "language": "python",
   "name": "pinecone_env"
  },
  "language_info": {
   "codemirror_mode": {
    "name": "ipython",
    "version": 3
   },
   "file_extension": ".py",
   "mimetype": "text/x-python",
   "name": "python",
   "nbconvert_exporter": "python",
   "pygments_lexer": "ipython3",
   "version": "3.10.6"
  }
 },
 "nbformat": 4,
 "nbformat_minor": 5
}
