{
 "cells": [
  {
   "cell_type": "markdown",
   "id": "88f36011",
   "metadata": {},
   "source": [
    "# Medium Article Semantic Search by Title+Subtitle"
   ]
  },
  {
   "cell_type": "markdown",
   "id": "4edfecf5",
   "metadata": {},
   "source": [
    "### Load Data"
   ]
  },
  {
   "cell_type": "code",
   "execution_count": 6,
   "id": "9a0599fd",
   "metadata": {},
   "outputs": [],
   "source": [
    "import pandas as pd"
   ]
  },
  {
   "cell_type": "code",
   "execution_count": 7,
   "id": "0dea2982",
   "metadata": {},
   "outputs": [],
   "source": [
    "df = pd.read_csv(\"medium_post_titles.csv\", nrows=10000) # excercise whole data set\n",
    "# data source: https://www.kaggle.com/datasets/nulldata/medium-post-titles"
   ]
  },
  {
   "cell_type": "code",
   "execution_count": 8,
   "id": "f4ce972b",
   "metadata": {},
   "outputs": [
    {
     "data": {
      "text/plain": [
       "False    6318\n",
       "True     3682\n",
       "Name: subtitle_truncated_flag, dtype: int64"
      ]
     },
     "execution_count": 8,
     "metadata": {},
     "output_type": "execute_result"
    }
   ],
   "source": [
    "df[\"subtitle_truncated_flag\"].value_counts()"
   ]
  },
  {
   "cell_type": "markdown",
   "id": "58e061d3",
   "metadata": {},
   "source": [
    "### Data Cleanup"
   ]
  },
  {
   "cell_type": "code",
   "execution_count": 9,
   "id": "df9c3374",
   "metadata": {},
   "outputs": [],
   "source": [
    "# df.isna().sum()\n",
    "\n",
    "df = df.dropna()\n",
    "df = df[~df[\"subtitle_truncated_flag\"]]\n",
    "# df[\"subtitle_truncated_flag\"].value_counts()\n",
    "\n",
    "df['title_extended'] = df['title'] + df['subtitle']"
   ]
  },
  {
   "cell_type": "code",
   "execution_count": 10,
   "id": "ad27cbd5",
   "metadata": {},
   "outputs": [],
   "source": [
    "# df.head()\n",
    "# df['category'].nunique()  # metadata\n",
    "# df.shape # 6k vectors, full set in excercise"
   ]
  },
  {
   "cell_type": "markdown",
   "id": "44a88b1c",
   "metadata": {},
   "source": [
    "### Prep for Upsert"
   ]
  },
  {
   "cell_type": "code",
   "execution_count": 40,
   "id": "76f0793e",
   "metadata": {},
   "outputs": [
    {
     "name": "stderr",
     "output_type": "stream",
     "text": [
      "/home/mohsin/.local/lib/python3.10/site-packages/pinecone/index.py:4: TqdmExperimentalWarning: Using `tqdm.autonotebook.tqdm` in notebook mode. Use `tqdm.tqdm` instead to force console mode (e.g. in jupyter console)\n",
      "  from tqdm.autonotebook import tqdm\n"
     ]
    }
   ],
   "source": [
    "# init pinecone\n",
    "\n",
    "# API_KEY = \n",
    "# ENV = \n",
    "\n",
    "import pinecone\n",
    "from tqdm.autonotebook import tqdm # warning taken care of\n",
    "\n",
    "pinecone.init(api_key = API_KEY, environment = ENV)\n"
   ]
  },
  {
   "cell_type": "code",
   "execution_count": null,
   "id": "127f78c9",
   "metadata": {},
   "outputs": [],
   "source": [
    "pinecone.create_index(name='medium-data', dimension=384, pod_type='s1', metric=\"cosine\" )"
   ]
  },
  {
   "cell_type": "code",
   "execution_count": 2,
   "id": "101ed255",
   "metadata": {},
   "outputs": [],
   "source": [
    "from sentence_transformers import SentenceTransformer\n",
    "import torch"
   ]
  },
  {
   "cell_type": "code",
   "execution_count": 4,
   "id": "b386c898",
   "metadata": {},
   "outputs": [],
   "source": [
    "model = SentenceTransformer('all-MiniLM-L6-v2', device='cuda') # cuda or cpu"
   ]
  },
  {
   "cell_type": "code",
   "execution_count": null,
   "id": "a144c14a",
   "metadata": {},
   "outputs": [],
   "source": [
    "df['values'] = df['title_extended'].map(\n",
    "    lambda x: (model.encode(x)).tolist()) # python list, 6k rows 1 min"
   ]
  },
  {
   "cell_type": "code",
   "execution_count": 50,
   "id": "6b60a4bd",
   "metadata": {},
   "outputs": [],
   "source": [
    "df['id'] = df.reset_index(drop = 'index').index"
   ]
  },
  {
   "cell_type": "code",
   "execution_count": 52,
   "id": "a31cedb9",
   "metadata": {},
   "outputs": [],
   "source": [
    "df['metadata'] = df.apply(lambda x: {\n",
    "    'title' : x['title'],\n",
    "    'subtitle': x['subtitle'],\n",
    "    'category': x['category']\n",
    "    \n",
    "}, axis=1)"
   ]
  },
  {
   "cell_type": "code",
   "execution_count": 54,
   "id": "43a1f386",
   "metadata": {},
   "outputs": [],
   "source": [
    "df_upsert = df[['id', 'values', 'metadata']]"
   ]
  },
  {
   "cell_type": "code",
   "execution_count": 57,
   "id": "8622d74f",
   "metadata": {},
   "outputs": [
    {
     "name": "stderr",
     "output_type": "stream",
     "text": [
      "/tmp/ipykernel_330894/3006284790.py:1: SettingWithCopyWarning: \n",
      "A value is trying to be set on a copy of a slice from a DataFrame.\n",
      "Try using .loc[row_indexer,col_indexer] = value instead\n",
      "\n",
      "See the caveats in the documentation: https://pandas.pydata.org/pandas-docs/stable/user_guide/indexing.html#returning-a-view-versus-a-copy\n",
      "  df_upsert['id'] = df_upsert['id'].map(lambda x: str(x))\n"
     ]
    }
   ],
   "source": [
    "df_upsert['id'] = df_upsert['id'].map(lambda x: str(x))"
   ]
  },
  {
   "cell_type": "code",
   "execution_count": 58,
   "id": "a62084db",
   "metadata": {},
   "outputs": [],
   "source": [
    "index =pinecone.Index('medium-data')"
   ]
  },
  {
   "cell_type": "code",
   "execution_count": 59,
   "id": "0fbaced0",
   "metadata": {},
   "outputs": [
    {
     "data": {
      "application/vnd.jupyter.widget-view+json": {
       "model_id": "829fc817175e4ba28a0431cd10cb9215",
       "version_major": 2,
       "version_minor": 0
      },
      "text/plain": [
       "sending upsert requests:   0%|          | 0/6211 [00:00<?, ?it/s]"
      ]
     },
     "metadata": {},
     "output_type": "display_data"
    },
    {
     "data": {
      "text/plain": [
       "{'upserted_count': 6211}"
      ]
     },
     "execution_count": 59,
     "metadata": {},
     "output_type": "execute_result"
    }
   ],
   "source": [
    "index.upsert_from_dataframe(df_upsert) # 6k takes 1 min"
   ]
  },
  {
   "cell_type": "markdown",
   "id": "1cd3dc80",
   "metadata": {},
   "source": [
    "### Query"
   ]
  },
  {
   "cell_type": "code",
   "execution_count": 75,
   "id": "3093b83b",
   "metadata": {},
   "outputs": [],
   "source": [
    "xc = index.query((model.encode(\"which city is the most beautiful\")).tolist(), # python list\n",
    "           top_k=10,\n",
    "           include_metadata=True) "
   ]
  },
  {
   "cell_type": "code",
   "execution_count": 76,
   "id": "f95b88ba",
   "metadata": {},
   "outputs": [
    {
     "name": "stdout",
     "output_type": "stream",
     "text": [
      "0.57: 3 Places Where You Can Find Beauty: photography \n",
      "0.46: 6 Easy Reasons to Enjoy Exploring South Wales: travel \n",
      "0.45: A City That’s Better for the Blind Is Better for Everyone: accessibility \n",
      "0.45: A Shining City on a Hill: politics \n",
      "0.42: A Most Beautiful Game: sports \n",
      "0.4: 6 Literary Cities for Book Lovers To Visit This Year: travel \n",
      "0.4: Ace Hotel: A UX Case Study: ux \n",
      "0.39: A city and its architecture: cities \n",
      "0.39: Adaptive urban design: design \n",
      "0.38: Aesthetics of Being: spirituality \n"
     ]
    }
   ],
   "source": [
    "for result in xc['matches']:\n",
    "    print(f\"{round(result['score'], 2)}: {result['metadata']['title']}: {result['metadata']['category']} \")"
   ]
  },
  {
   "cell_type": "code",
   "execution_count": 77,
   "id": "9c6b8ad9",
   "metadata": {},
   "outputs": [
    {
     "name": "stdout",
     "output_type": "stream",
     "text": [
      "0.57: If you are willing to look hard enough, eventually you will see beauty in the most difficult of places.: photography \n",
      "0.46: Pembrokeshire is as beautiful as the Italian Coast.: travel \n",
      "0.45: Complete parity with the sighted may seem like an impossible goal, but maybe the only thing holding us back is a lack of imagination.: accessibility \n",
      "0.45: What does America stand for?: politics \n",
      "0.42: The World Cup gets advertising right: sports \n",
      "0.4: Combine your love for books and travel with these 6 literary cities.: travel \n",
      "0.4: Discover the city you are visting like a local: ux \n",
      "0.39: Bangalore Chapter: cities \n",
      "0.39: Choatic nature of order: design \n",
      "0.38: Examining life through a lens of beauty: spirituality \n"
     ]
    }
   ],
   "source": [
    "for result in xc['matches']:\n",
    "    print(f\"{round(result['score'], 2)}: {result['metadata']['subtitle']}: {result['metadata']['category']} \")"
   ]
  },
  {
   "cell_type": "markdown",
   "id": "5d4853ea",
   "metadata": {},
   "source": [
    "### Excercise: Upsert all data"
   ]
  },
  {
   "cell_type": "code",
   "execution_count": null,
   "id": "37156a84",
   "metadata": {},
   "outputs": [],
   "source": []
  }
 ],
 "metadata": {
  "kernelspec": {
   "display_name": "pinecone_env",
   "language": "python",
   "name": "pinecone_env"
  },
  "language_info": {
   "codemirror_mode": {
    "name": "ipython",
    "version": 3
   },
   "file_extension": ".py",
   "mimetype": "text/x-python",
   "name": "python",
   "nbconvert_exporter": "python",
   "pygments_lexer": "ipython3",
   "version": "3.10.6"
  }
 },
 "nbformat": 4,
 "nbformat_minor": 5
}
